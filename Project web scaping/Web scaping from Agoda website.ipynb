{
 "cells": [
  {
   "cell_type": "code",
   "execution_count": 1,
   "metadata": {},
   "outputs": [
    {
     "name": "stdout",
     "output_type": "stream",
     "text": [
      "Requirement already satisfied: selenium==3.141.0 in c:\\users\\chainchi\\anaconda3\\lib\\site-packages (3.141.0)\n",
      "Requirement already satisfied: urllib3 in c:\\users\\chainchi\\anaconda3\\lib\\site-packages (from selenium==3.141.0) (1.26.11)\n"
     ]
    }
   ],
   "source": [
    "# install selenium\n",
    "!pip install selenium==3.141.0"
   ]
  },
  {
   "cell_type": "code",
   "execution_count": 2,
   "metadata": {},
   "outputs": [],
   "source": [
    "# import webdriver from selenium\n",
    "from selenium import webdriver"
   ]
  },
  {
   "cell_type": "code",
   "execution_count": 18,
   "metadata": {},
   "outputs": [],
   "source": [
    "# make webdriver by chrome \n",
    "driver = webdriver.Chrome(r\"C:\\Users\\chainchi\\Desktop\\Data En\\Data Rocky\\Web Scarp\\chromedriver_win32\\chromedriver.exe\")"
   ]
  },
  {
   "cell_type": "code",
   "execution_count": 19,
   "metadata": {},
   "outputs": [],
   "source": [
    "# get website agoda\n",
    "driver.get('https://www.agoda.com/th-th')"
   ]
  },
  {
   "cell_type": "code",
   "execution_count": 22,
   "metadata": {},
   "outputs": [],
   "source": [
    "# get promotion from website when strats in\n",
    "Get_Promotion_button = driver.find_element(\"xpath\", '/html/body/div[13]/div[2]/div[3]/button[1]')"
   ]
  },
  {
   "cell_type": "code",
   "execution_count": 23,
   "metadata": {},
   "outputs": [],
   "source": [
    "Get_Promotion_button .click()"
   ]
  },
  {
   "cell_type": "code",
   "execution_count": 25,
   "metadata": {},
   "outputs": [],
   "source": [
    "Got_it = driver.find_element(\"xpath\", '/html/body/div[11]/div[2]/div/div/div[3]/button/div/div/span')"
   ]
  },
  {
   "cell_type": "code",
   "execution_count": 26,
   "metadata": {},
   "outputs": [],
   "source": [
    "Got_it.click()"
   ]
  },
  {
   "cell_type": "code",
   "execution_count": 29,
   "metadata": {},
   "outputs": [],
   "source": [
    "# close pop-up\n",
    "Close_button = driver.find_element(\"xpath\", '/html/body/div[13]/div[2]/button')"
   ]
  },
  {
   "cell_type": "code",
   "execution_count": 30,
   "metadata": {},
   "outputs": [],
   "source": [
    "Close_button.click()"
   ]
  },
  {
   "cell_type": "code",
   "execution_count": 31,
   "metadata": {},
   "outputs": [],
   "source": [
    "# make for search something location \n",
    "search = driver.find_element(\"xpath\",\"/html/body/div[8]/div[2]/div/section/section/div/div[2]/div/div/div[1]/div/div[2]/div/div/div[2]/div/div/input\")"
   ]
  },
  {
   "cell_type": "code",
   "execution_count": 32,
   "metadata": {},
   "outputs": [],
   "source": [
    "search.send_keys(\"Pattaya\")"
   ]
  },
  {
   "cell_type": "code",
   "execution_count": 33,
   "metadata": {},
   "outputs": [],
   "source": [
    "from selenium.webdriver.common.keys import Keys"
   ]
  },
  {
   "cell_type": "code",
   "execution_count": 36,
   "metadata": {},
   "outputs": [],
   "source": [
    "search.send_keys(Keys.ENTER)"
   ]
  },
  {
   "cell_type": "code",
   "execution_count": 38,
   "metadata": {},
   "outputs": [],
   "source": [
    "# make due-date \n",
    "check_in = driver.find_element(\"xpath\", '/html/body/div[8]/div[2]/div/section/section/div/div[2]/div/div/div[1]/div/div[2]/div/div/div[6]/div/div/div[1]/div/div[2]/div[1]/div[3]/div[1]/div[7]/div/div')"
   ]
  },
  {
   "cell_type": "code",
   "execution_count": 39,
   "metadata": {},
   "outputs": [],
   "source": [
    "check_in.click()"
   ]
  },
  {
   "cell_type": "code",
   "execution_count": 40,
   "metadata": {},
   "outputs": [],
   "source": [
    "\n",
    "check_out = driver.find_element(\"xpath\", '/html/body/div[8]/div[2]/div/section/section/div/div[2]/div/div/div[1]/div/div[2]/div/div/div[6]/div/div/div[1]/div/div[2]/div[1]/div[3]/div[2]/div[1]/div/div/span')"
   ]
  },
  {
   "cell_type": "code",
   "execution_count": 41,
   "metadata": {},
   "outputs": [],
   "source": [
    "check_out.click()"
   ]
  },
  {
   "cell_type": "code",
   "execution_count": 46,
   "metadata": {},
   "outputs": [],
   "source": [
    "# booking guest\n",
    "How_many_guest = driver.find_element(\"xpath\", '/html/body/div[8]/div[2]/div/section/section/div/div[2]/div/div/div[1]/div/div[2]/div/div/div[6]/div/div/div/div/div/div[1]/div[1]')"
   ]
  },
  {
   "cell_type": "code",
   "execution_count": 48,
   "metadata": {},
   "outputs": [],
   "source": [
    "How_many_guest.click()"
   ]
  },
  {
   "cell_type": "code",
   "execution_count": 49,
   "metadata": {},
   "outputs": [],
   "source": [
    "# confirm booking hotel\n",
    "Confirm = driver.find_element(\"xpath\",\"/html/body/div[8]/div[2]/div/section/section/div/div[2]/div/div/div[2]/button/div/div/span\")"
   ]
  },
  {
   "cell_type": "code",
   "execution_count": 52,
   "metadata": {},
   "outputs": [],
   "source": [
    "Confirm.click()"
   ]
  },
  {
   "cell_type": "code",
   "execution_count": 58,
   "metadata": {},
   "outputs": [],
   "source": [
    "driver.execute_script(\"document.body.style.zoom='100%'\")"
   ]
  },
  {
   "cell_type": "code",
   "execution_count": 56,
   "metadata": {},
   "outputs": [],
   "source": [
    "data = driver.page_source"
   ]
  },
  {
   "cell_type": "code",
   "execution_count": 65,
   "metadata": {},
   "outputs": [
    {
     "name": "stdout",
     "output_type": "stream",
     "text": [
      "Requirement already satisfied: bs4 in c:\\users\\chainchi\\anaconda3\\lib\\site-packages (0.0.1)\n",
      "Requirement already satisfied: beautifulsoup4 in c:\\users\\chainchi\\anaconda3\\lib\\site-packages (from bs4) (4.9.1)\n",
      "Requirement already satisfied: soupsieve>1.2 in c:\\users\\chainchi\\anaconda3\\lib\\site-packages (from beautifulsoup4->bs4) (2.0.1)\n"
     ]
    }
   ],
   "source": [
    "# install bs4 and improt bs4\n",
    "!pip install bs4\n",
    "import bs4"
   ]
  },
  {
   "cell_type": "code",
   "execution_count": 66,
   "metadata": {},
   "outputs": [],
   "source": [
    "soup = bs4.BeautifulSoup(data)"
   ]
  },
  {
   "cell_type": "code",
   "execution_count": 84,
   "metadata": {},
   "outputs": [],
   "source": [
    "# defind hotel room\n",
    "all_room = soup.find_all('h3',{'class':'PropertyCard__HotelName'})"
   ]
  },
  {
   "cell_type": "code",
   "execution_count": 85,
   "metadata": {},
   "outputs": [
    {
     "data": {
      "text/plain": [
       "['Ana Anan Resort & Villas Pattaya (SHA Extra Plus)',\n",
       " 'InterContinental Pattaya Resort (SHA Plus+)',\n",
       " 'Costa Village Bangsaray (SHA Extra Plus)',\n",
       " 'Bee Orchid Pool Villa',\n",
       " 'Brighton Grand Hotel Pattaya (SHA Extra plus)',\n",
       " 'Arbour Hotel and Residence Pattaya (SHA Plus+)',\n",
       " 'Cape Dara Resort (SHA Plus+)',\n",
       " 'Pattaya Blue Sky',\n",
       " 'Grande Centre Point Pattaya (SHA Extra Plus)',\n",
       " 'Dusit Thani Pattaya (SHA Extra Plus)',\n",
       " 'Ana Anan Resort & Villas Pattaya (SHA Extra Plus)',\n",
       " 'Acqua Hotel (SHA Plus+)',\n",
       " 'Siam @ Siam Design Hotel Pattaya (SHA Plus+)',\n",
       " 'Centre Point Prime Hotel Pattaya (SHA Extra Plus)',\n",
       " 'Sattahip 9 Boutique Hotel',\n",
       " 'InterContinental Pattaya Resort (SHA Plus+)',\n",
       " 'GRAND PALAZZO HOTEL PATTAYA (SHA Extra plus)',\n",
       " 'Hotel Amber Pattaya (SHA Extra Plus)',\n",
       " 'Renaissance Pattaya Resort Spa SHA Plus +',\n",
       " 'Hilton Pattaya (SHA Extra Plus)',\n",
       " 'Brighton Grand Hotel Pattaya (SHA Extra plus)',\n",
       " 'Vogue Pattaya',\n",
       " 'Holiday Inn Express Pattaya Central (SHA Extra Plus)',\n",
       " 'D Varee Jomtien Beach Pattaya Hotel (SHA Extra Plus)',\n",
       " 'Pullman Pattaya Hotel G (SHA Plus+)',\n",
       " 'Arbour Hotel and Residence Pattaya (SHA Plus+)',\n",
       " 'Avani Pattaya Resort (SHA Extra Plus)',\n",
       " 'Aiyaree Place Hotel SHA PLUS',\n",
       " 'Navana Nature Escape (SHA Plus+)',\n",
       " 'Centara Grand Mirage Beach Resort Pattaya (SHA Extra Plus)',\n",
       " 'GLOW Pattaya (SHA Extra Plus)',\n",
       " 'MYTT Beach Hotel (SHA Plus+)',\n",
       " 'Payaa Hotel',\n",
       " 'Mandarin Eastville Pattaya (SHA Plus+)',\n",
       " 'Ravindra Beach Resort and Spa (SHA Extra Plus)',\n",
       " 'Best Western Premier Bayphere Pattaya (SHA Extra Plus)',\n",
       " 'X2 Vibe Pattaya Seaphere (SHA Extra Plus)',\n",
       " 'Lido Beach Hotel',\n",
       " 'Pattaya Holiday at Veranda Residence',\n",
       " 'Veranda Resort Pattaya - MGallery',\n",
       " 'MASON (SHA Plus+)',\n",
       " 'Natural Beach Hotel',\n",
       " 'P Plus Hotel',\n",
       " 'The Grass Serviced Suites by At Mind (SHA Plus+)',\n",
       " 'The Sanctuary Phratamnak Pattaya (SHA Plus+) - Former Centara Grand Phratamnak ',\n",
       " 'Jomtien Palm Beach Hotel And Resort (SHA Plus+)',\n",
       " 'One patio hotel pattaya (SHA Extra Plus)',\n",
       " 'Aster Hotel and Residence (SHA Extra Plus)',\n",
       " 'Shambhala Hotel Pattaya (SHA Plus+)',\n",
       " 'Garden Cliff Resort & Spa (SHA Extra Plus)',\n",
       " 'LK Emerald Beach (SHA Extra Plus)',\n",
       " 'U Jomtien Pattaya (SHA Extra Plus)',\n",
       " 'Arden Hotel and Residence (SHA Extra Plus)',\n",
       " 'Garden Sea View Resort (SHA Plus+)',\n",
       " 'Mercure Pattaya Ocean Resort (SHA Extra Plus)',\n",
       " 'Mövenpick Siam Na Jomtien Pattaya (SHA Plus+)',\n",
       " 'Picasso',\n",
       " 'The Bayview Hotel Pattaya (SHA Plus+)',\n",
       " 'Centra by Centara Maris Resort Jomtien (SHA Plus+)',\n",
       " 'Ibis Pattaya (SHA Extra Plus)',\n",
       " 'Sleep with me Pattaya',\n",
       " 'Page 10 Hotel',\n",
       " 'Hotel Vista',\n",
       " 'Hard Rock Hotel Pattaya (SHA Plus+)',\n",
       " 'Intimate Hotel Pattaya (SHA Extra Plus)',\n",
       " 'Holiday Inn Pattaya (SHA Plus+)',\n",
       " 'La Route Residence Pattaya',\n",
       " 'Beston Pattaya - SHA Plus Certified',\n",
       " 'Cosy Beach Hotel (SHA Extra Plus)',\n",
       " 'OZO North Pattaya (SHA Extra Plus)',\n",
       " 'Altera Hotel and Residence (SHA Extra Plus)',\n",
       " 'Seven Zea Chic Hotel (SHA Certified)',\n",
       " 'Royal Cliff Beach Hotel (SHA Plus+)',\n",
       " 'Marine Beach Hotel Pattaya (SHA Extra Plus)',\n",
       " 'Pinnacle Grand Jomtien Resort and Beach Club (SHA Extra Plus)',\n",
       " 'Balihai Bay Residence',\n",
       " 'April Suites Pattaya',\n",
       " 'Areca Lodge Hotel (SHA Plus+)',\n",
       " 'blackwoods Hotel Pattaya (SHA Extra Plus)',\n",
       " 'U Pattaya Hotel (SHA Plus+)',\n",
       " 'Kram Pattaya',\n",
       " 'A-One Star Hotel (SHA Extra Plus)',\n",
       " '7 Days Premium Hotel Pattaya (SHA Extra Plus)',\n",
       " 'LK Metropole Hotel',\n",
       " 'Red Planet Pattaya (SHA Extra Plus)',\n",
       " 'The TJ Hotel',\n",
       " 'Prima Place',\n",
       " 'Siam Bayshore Resort Pattaya (SHA Plus+)',\n",
       " 'Natural Park Resort',\n",
       " 'Woodlands Hotel and  Resort',\n",
       " 'Hotel Selection Pattaya (SHA Plus+)',\n",
       " 'The GEMS MINING Pool Villas Pattaya (SHA Plus+)',\n",
       " 'Sea Breeze Jomtien Resort (SHA Extra Plus)',\n",
       " 'A-One The Royal Cruise Hotel Pattaya (SHA Extra Plus)',\n",
       " 'Fifth Jomtien Pattaya',\n",
       " 'B2 Jomtien Hotel',\n",
       " 'B2 South Pattaya Premier Hotel',\n",
       " 'The Zign Hotel',\n",
       " 'Flipper Lodge (SHA Plus+)',\n",
       " 'Baron beach hotel (SHA Certified)',\n",
       " 'X2 Pattaya Oceanphere',\n",
       " 'LK The Empress']"
      ]
     },
     "execution_count": 85,
     "metadata": {},
     "output_type": "execute_result"
    }
   ],
   "source": [
    "all_room_list = []\n",
    "for room in all_room:\n",
    "    all_room_list.append(room.text)\n",
    "all_room_list"
   ]
  },
  {
   "cell_type": "code",
   "execution_count": 86,
   "metadata": {},
   "outputs": [],
   "source": [
    "# defind location near Pattaya\n",
    "location = soup.find_all('span',{'class':'Address__Text'})"
   ]
  },
  {
   "cell_type": "code",
   "execution_count": 87,
   "metadata": {},
   "outputs": [
    {
     "data": {
      "text/plain": [
       "['Na Jomtien, Pattaya - 9.8 km to center',\n",
       " 'Phra Tamnak Hill, Pattaya - 0.8 km to center',\n",
       " 'Bang Saray, Pattaya - 17.1 km to center',\n",
       " 'Koh Larn, Pattaya - 8.9 km to center',\n",
       " 'Naklua, Pattaya - 0.9 km to center',\n",
       " 'Central Pattaya, Pattaya - 0.6 km to center',\n",
       " 'North Pattaya, Pattaya - 0.5 km to center',\n",
       " 'Pattaya Beach Road, Pattaya - City center',\n",
       " 'North Pattaya, Pattaya - 60 m to center',\n",
       " 'North Pattaya, Pattaya - 67 m to center',\n",
       " 'Na Jomtien, Pattaya - 9.8 km to center',\n",
       " 'Central Pattaya, Pattaya - City center',\n",
       " 'North Pattaya, Pattaya - City center',\n",
       " 'Naklua, Pattaya - 2.7 km to center',\n",
       " 'Sattahip Beach, Pattaya - 28.3 km to center',\n",
       " 'Phra Tamnak Hill, Pattaya - 0.8 km to center',\n",
       " 'North Pattaya, Pattaya - 0.3 km to center',\n",
       " 'Central Pattaya, Pattaya - 0.2 km to center',\n",
       " 'Na Jomtien, Pattaya - 13.5 km to center',\n",
       " 'Pattaya Beach Road, Pattaya - City center',\n",
       " 'Naklua, Pattaya - 0.9 km to center',\n",
       " 'Central Pattaya, Pattaya - City center',\n",
       " 'Central Pattaya, Pattaya - 0.1 km to center',\n",
       " 'Jomtien Beach, Pattaya - 5.0 km to center',\n",
       " 'Wongamat Beach, Pattaya - 1.3 km to center',\n",
       " 'Central Pattaya, Pattaya - 0.6 km to center',\n",
       " 'Pattaya Beach Road, Pattaya - City center',\n",
       " 'Dong Tarn Beach, Pattaya - 2.5 km to center',\n",
       " 'Naklua, Pattaya - 2.5 km to center',\n",
       " 'Wongamat Beach, Pattaya - 0.8 km to center',\n",
       " 'South Pattaya, Pattaya - 0.7 km to center',\n",
       " 'Pattaya Beach Road, Pattaya - City center',\n",
       " 'Pattaya Beach Road, Pattaya - City center',\n",
       " 'Naklua, Pattaya - 2.6 km to center',\n",
       " 'Na Jomtien, Pattaya - 10.8 km to center',\n",
       " 'Na Jomtien, Pattaya - 9.6 km to center',\n",
       " 'Na Jomtien, Pattaya - 13.1 km to center',\n",
       " 'Walking Street, Pattaya - City center',\n",
       " 'Na Jomtien, Pattaya - 7.5 km to center',\n",
       " 'Na Jomtien, Pattaya - 7.5 km to center',\n",
       " 'Na Jomtien, Pattaya - 14.1 km to center',\n",
       " 'Pattaya Beach Road, Pattaya - City center',\n",
       " 'Central Pattaya, Pattaya - City center',\n",
       " 'South Pattaya, Pattaya - 1.0 km to center',\n",
       " 'Phra Tamnak Hill, Pattaya - 2.1 km to center',\n",
       " 'Jomtien Beach, Pattaya - 2.8 km to center',\n",
       " 'North Pattaya, Pattaya - City center',\n",
       " 'Central Pattaya, Pattaya - 0.4 km to center',\n",
       " 'Central Pattaya, Pattaya - 0.6 km to center',\n",
       " 'Naklua, Pattaya - 2.1 km to center',\n",
       " 'North Pattaya, Pattaya - 0.5 km to center',\n",
       " 'Jomtien Beach, Pattaya - 6.7 km to center',\n",
       " 'Central Pattaya, Pattaya - 0.3 km to center',\n",
       " 'Naklua, Pattaya - 2.7 km to center',\n",
       " 'Pattaya Beach Road, Pattaya - City center',\n",
       " 'Na Jomtien, Pattaya - 10.6 km to center',\n",
       " 'North Pattaya, Pattaya - 1.0 km to center',\n",
       " 'Pattaya Beach Road, Pattaya - City center',\n",
       " 'Jomtien Beach, Pattaya - 6.8 km to center',\n",
       " 'Pattaya Beach Road, Pattaya - City center',\n",
       " 'Central Pattaya, Pattaya - 0.3 km to center',\n",
       " 'Central Pattaya, Pattaya - City center',\n",
       " 'Pattaya Beach Road, Pattaya - City center',\n",
       " 'Pattaya Beach Road, Pattaya - City center',\n",
       " 'Central Pattaya, Pattaya - City center',\n",
       " 'Pattaya Beach Road, Pattaya - City center',\n",
       " 'Naklua, Pattaya - 4.3 km to center',\n",
       " 'South Pattaya, Pattaya - 0.5 km to center',\n",
       " 'Phra Tamnak Hill, Pattaya - 1.1 km to center',\n",
       " 'Pattaya Beach Road, Pattaya - City center',\n",
       " 'Central Pattaya, Pattaya - 0.2 km to center',\n",
       " 'Pattaya Beach Road, Pattaya - City center',\n",
       " 'Phra Tamnak Hill, Pattaya - 0.6 km to center',\n",
       " 'Jomtien Beach, Pattaya - 5.3 km to center',\n",
       " 'Na Jomtien, Pattaya - 8.5 km to center',\n",
       " 'Walking Street, Pattaya - 0.3 km to center',\n",
       " 'Central Pattaya, Pattaya - 84 m to center',\n",
       " 'Central Pattaya, Pattaya - City center',\n",
       " 'Central Pattaya, Pattaya - City center',\n",
       " 'Bang Saray, Pattaya - 16.6 km to center',\n",
       " 'Naklua, Pattaya - 2.8 km to center',\n",
       " 'Pattaya Beach Road, Pattaya - City center',\n",
       " 'Walking Street, Pattaya - City center',\n",
       " 'Central Pattaya, Pattaya - City center',\n",
       " 'North Pattaya, Pattaya - City center',\n",
       " 'Jomtien Beach, Pattaya - 5.0 km to center',\n",
       " 'South Pattaya, Pattaya - 0.8 km to center',\n",
       " 'Walking Street, Pattaya - 0.2 km to center',\n",
       " 'Jomtien Beach, Pattaya - 6.0 km to center',\n",
       " 'North Pattaya, Pattaya - 36 m to center',\n",
       " 'Pattaya Beach Road, Pattaya - City center',\n",
       " 'Mabprachan Reservoir, Pattaya - 4.6 km to center',\n",
       " 'Jomtien Beach, Pattaya - 3.8 km to center',\n",
       " 'Pattaya Beach Road, Pattaya - City center',\n",
       " 'Jomtien Beach, Pattaya - 2.9 km to center',\n",
       " 'Jomtien Beach, Pattaya - 7.0 km to center',\n",
       " 'South Pattaya, Pattaya - 0.5 km to center',\n",
       " 'Naklua, Pattaya - 2.2 km to center',\n",
       " 'Pattaya Beach Road, Pattaya - City center',\n",
       " 'Pattaya Beach Road, Pattaya - City center',\n",
       " 'Bang Saray, Pattaya - 17.2 km to center',\n",
       " 'Pattaya Beach Road, Pattaya - City center']"
      ]
     },
     "execution_count": 87,
     "metadata": {},
     "output_type": "execute_result"
    }
   ],
   "source": [
    "location_list = []\n",
    "for room in location:\n",
    "    location_list.append(room.text)\n",
    "location_list"
   ]
  },
  {
   "cell_type": "code",
   "execution_count": 81,
   "metadata": {},
   "outputs": [],
   "source": [
    "# defind price\n",
    "price = soup.find_all('span',{'data-selenium':'display-price'})"
   ]
  },
  {
   "cell_type": "code",
   "execution_count": 83,
   "metadata": {},
   "outputs": [
    {
     "data": {
      "text/plain": [
       "['2,306',\n",
       " '3,752',\n",
       " '1,259',\n",
       " '1,582',\n",
       " '1,580',\n",
       " '3,576',\n",
       " '751',\n",
       " '4,651',\n",
       " '2,974',\n",
       " '2,124',\n",
       " '2,306',\n",
       " '935',\n",
       " '1,685',\n",
       " '935',\n",
       " '3,752',\n",
       " '1,176',\n",
       " '939',\n",
       " '4,500',\n",
       " '5,616',\n",
       " '1,582',\n",
       " '519',\n",
       " '1,045',\n",
       " '944',\n",
       " '2,880',\n",
       " '1,580',\n",
       " '2,602',\n",
       " '3,794',\n",
       " '6,999',\n",
       " '5,900',\n",
       " '499',\n",
       " '2,097',\n",
       " '1,673',\n",
       " '1,550',\n",
       " '2,741',\n",
       " '1,805',\n",
       " '1,098',\n",
       " '1,370',\n",
       " '3,200',\n",
       " '7,980',\n",
       " '458',\n",
       " '499',\n",
       " '536',\n",
       " '1,416',\n",
       " '1,126',\n",
       " '1,443',\n",
       " '799',\n",
       " '1,096',\n",
       " '1,258',\n",
       " '2,092',\n",
       " '2,327',\n",
       " '997',\n",
       " '845',\n",
       " '1,747',\n",
       " '4,208',\n",
       " '1,393',\n",
       " '1,300',\n",
       " '741',\n",
       " '796',\n",
       " '1,186',\n",
       " '1,044',\n",
       " '2,577',\n",
       " '910',\n",
       " '2,897',\n",
       " '436',\n",
       " '1,113',\n",
       " '1,915',\n",
       " '966',\n",
       " '850',\n",
       " '2,970',\n",
       " '1,799',\n",
       " '949',\n",
       " '1,199',\n",
       " '1,317',\n",
       " '1,546',\n",
       " '4,546',\n",
       " '1,918',\n",
       " '570',\n",
       " '535',\n",
       " '1,189',\n",
       " '534',\n",
       " '878',\n",
       " '2,301',\n",
       " '1,468',\n",
       " '1,400',\n",
       " '746',\n",
       " '4,834',\n",
       " '847',\n",
       " '1,412',\n",
       " '1,245',\n",
       " '459',\n",
       " '454',\n",
       " '1,629',\n",
       " '996',\n",
       " '861',\n",
       " '5,974',\n",
       " '8,777',\n",
       " '2,236']"
      ]
     },
     "execution_count": 83,
     "metadata": {},
     "output_type": "execute_result"
    }
   ],
   "source": [
    "all_price_list = []\n",
    "for room in price:\n",
    "    all_price_list.append(room.text)\n",
    "all_price_list"
   ]
  },
  {
   "cell_type": "code",
   "execution_count": 90,
   "metadata": {},
   "outputs": [],
   "source": [
    "# import pandas\n",
    "import pandas as pd"
   ]
  },
  {
   "cell_type": "code",
   "execution_count": 92,
   "metadata": {},
   "outputs": [],
   "source": [
    "# Set DataFrame from agoda hotel in pattaya\n",
    "Agoda_data = pd.DataFrame([all_room,location,price])"
   ]
  },
  {
   "cell_type": "code",
   "execution_count": 97,
   "metadata": {},
   "outputs": [],
   "source": [
    "# data transpose and set Description\n",
    "Agoda_data = Agoda_data.transpose()\n",
    "Agoda_data.columns = [\"Hotel\",\"Location\",\"Price\"]"
   ]
  },
  {
   "cell_type": "code",
   "execution_count": 98,
   "metadata": {},
   "outputs": [
    {
     "data": {
      "text/html": [
       "<div>\n",
       "<style scoped>\n",
       "    .dataframe tbody tr th:only-of-type {\n",
       "        vertical-align: middle;\n",
       "    }\n",
       "\n",
       "    .dataframe tbody tr th {\n",
       "        vertical-align: top;\n",
       "    }\n",
       "\n",
       "    .dataframe thead th {\n",
       "        text-align: right;\n",
       "    }\n",
       "</style>\n",
       "<table border=\"1\" class=\"dataframe\">\n",
       "  <thead>\n",
       "    <tr style=\"text-align: right;\">\n",
       "      <th></th>\n",
       "      <th>Hotel</th>\n",
       "      <th>Location</th>\n",
       "      <th>Price</th>\n",
       "    </tr>\n",
       "  </thead>\n",
       "  <tbody>\n",
       "    <tr>\n",
       "      <th>0</th>\n",
       "      <td>[Ana Anan Resort &amp; Villas Pattaya (SHA Extra P...</td>\n",
       "      <td>[Na Jomtien, Pattaya - 9.8 km to center]</td>\n",
       "      <td>[2,306]</td>\n",
       "    </tr>\n",
       "    <tr>\n",
       "      <th>1</th>\n",
       "      <td>[InterContinental Pattaya Resort (SHA Plus+)]</td>\n",
       "      <td>[Phra Tamnak Hill, Pattaya - 0.8 km to center]</td>\n",
       "      <td>[3,752]</td>\n",
       "    </tr>\n",
       "    <tr>\n",
       "      <th>2</th>\n",
       "      <td>[Costa Village Bangsaray (SHA Extra Plus)]</td>\n",
       "      <td>[Bang Saray, Pattaya - 17.1 km to center]</td>\n",
       "      <td>[1,259]</td>\n",
       "    </tr>\n",
       "    <tr>\n",
       "      <th>3</th>\n",
       "      <td>[Bee Orchid Pool Villa]</td>\n",
       "      <td>[Koh Larn, Pattaya - 8.9 km to center]</td>\n",
       "      <td>[1,582]</td>\n",
       "    </tr>\n",
       "    <tr>\n",
       "      <th>4</th>\n",
       "      <td>[Brighton Grand Hotel Pattaya (SHA Extra plus)]</td>\n",
       "      <td>[Naklua, Pattaya - 0.9 km to center]</td>\n",
       "      <td>[1,580]</td>\n",
       "    </tr>\n",
       "    <tr>\n",
       "      <th>...</th>\n",
       "      <td>...</td>\n",
       "      <td>...</td>\n",
       "      <td>...</td>\n",
       "    </tr>\n",
       "    <tr>\n",
       "      <th>97</th>\n",
       "      <td>[The Zign Hotel]</td>\n",
       "      <td>[Naklua, Pattaya - 2.2 km to center]</td>\n",
       "      <td>None</td>\n",
       "    </tr>\n",
       "    <tr>\n",
       "      <th>98</th>\n",
       "      <td>[Flipper Lodge (SHA Plus+)]</td>\n",
       "      <td>[Pattaya Beach Road, Pattaya - City center]</td>\n",
       "      <td>None</td>\n",
       "    </tr>\n",
       "    <tr>\n",
       "      <th>99</th>\n",
       "      <td>[Baron beach hotel (SHA Certified)]</td>\n",
       "      <td>[Pattaya Beach Road, Pattaya - City center]</td>\n",
       "      <td>None</td>\n",
       "    </tr>\n",
       "    <tr>\n",
       "      <th>100</th>\n",
       "      <td>[X2 Pattaya Oceanphere]</td>\n",
       "      <td>[Bang Saray, Pattaya - 17.2 km to center]</td>\n",
       "      <td>None</td>\n",
       "    </tr>\n",
       "    <tr>\n",
       "      <th>101</th>\n",
       "      <td>[LK The Empress]</td>\n",
       "      <td>[Pattaya Beach Road, Pattaya - City center]</td>\n",
       "      <td>None</td>\n",
       "    </tr>\n",
       "  </tbody>\n",
       "</table>\n",
       "<p>102 rows × 3 columns</p>\n",
       "</div>"
      ],
      "text/plain": [
       "                                                 Hotel  \\\n",
       "0    [Ana Anan Resort & Villas Pattaya (SHA Extra P...   \n",
       "1        [InterContinental Pattaya Resort (SHA Plus+)]   \n",
       "2           [Costa Village Bangsaray (SHA Extra Plus)]   \n",
       "3                              [Bee Orchid Pool Villa]   \n",
       "4      [Brighton Grand Hotel Pattaya (SHA Extra plus)]   \n",
       "..                                                 ...   \n",
       "97                                    [The Zign Hotel]   \n",
       "98                         [Flipper Lodge (SHA Plus+)]   \n",
       "99                 [Baron beach hotel (SHA Certified)]   \n",
       "100                            [X2 Pattaya Oceanphere]   \n",
       "101                                   [LK The Empress]   \n",
       "\n",
       "                                           Location    Price  \n",
       "0          [Na Jomtien, Pattaya - 9.8 km to center]  [2,306]  \n",
       "1    [Phra Tamnak Hill, Pattaya - 0.8 km to center]  [3,752]  \n",
       "2         [Bang Saray, Pattaya - 17.1 km to center]  [1,259]  \n",
       "3            [Koh Larn, Pattaya - 8.9 km to center]  [1,582]  \n",
       "4              [Naklua, Pattaya - 0.9 km to center]  [1,580]  \n",
       "..                                              ...      ...  \n",
       "97             [Naklua, Pattaya - 2.2 km to center]     None  \n",
       "98      [Pattaya Beach Road, Pattaya - City center]     None  \n",
       "99      [Pattaya Beach Road, Pattaya - City center]     None  \n",
       "100       [Bang Saray, Pattaya - 17.2 km to center]     None  \n",
       "101     [Pattaya Beach Road, Pattaya - City center]     None  \n",
       "\n",
       "[102 rows x 3 columns]"
      ]
     },
     "execution_count": 98,
     "metadata": {},
     "output_type": "execute_result"
    }
   ],
   "source": [
    "# Data Frame hotel from pattaya\n",
    "Agoda_data"
   ]
  },
  {
   "cell_type": "code",
   "execution_count": null,
   "metadata": {},
   "outputs": [],
   "source": []
  }
 ],
 "metadata": {
  "kernelspec": {
   "display_name": "Python 3",
   "language": "python",
   "name": "python3"
  },
  "language_info": {
   "codemirror_mode": {
    "name": "ipython",
    "version": 3
   },
   "file_extension": ".py",
   "mimetype": "text/x-python",
   "name": "python",
   "nbconvert_exporter": "python",
   "pygments_lexer": "ipython3",
   "version": "3.8.3"
  }
 },
 "nbformat": 4,
 "nbformat_minor": 4
}
